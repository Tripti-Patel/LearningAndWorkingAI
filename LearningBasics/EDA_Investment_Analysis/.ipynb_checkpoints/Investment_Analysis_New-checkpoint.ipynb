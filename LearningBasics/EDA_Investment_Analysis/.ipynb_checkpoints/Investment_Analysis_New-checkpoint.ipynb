{
 "cells": [
  {
   "cell_type": "markdown",
   "id": "e2e96fbe",
   "metadata": {},
   "source": [
    "### Investment "
   ]
  },
  {
   "cell_type": "markdown",
   "id": "82fa09d9",
   "metadata": {},
   "source": [
    "#### Project Brief\n",
    "You work for Spark Funds, an asset management company. Spark Funds wants to make investments in a few companies. The CEO of Spark Funds wants to understand the global trends in investments so that she can take the investment decisions effectively.\n",
    "\n",
    "#### Business and Data Understanding\n",
    "Spark Funds has two minor constraints for investments:\n",
    "\n",
    "It wants to invest between 5 to 15 million USD per round of investment\n",
    "\n",
    "It wants to invest only in English-speaking countries because of the ease of communication with the companies it would invest in"
   ]
  },
  {
   "cell_type": "code",
   "execution_count": 1,
   "id": "900d8429",
   "metadata": {},
   "outputs": [],
   "source": [
    "import pandas as pd\n",
    "import numpy as np"
   ]
  },
  {
   "cell_type": "code",
   "execution_count": null,
   "id": "ce6ddd4f",
   "metadata": {},
   "outputs": [],
   "source": [
    "df1 = np.read_csv(\"\")"
   ]
  }
 ],
 "metadata": {
  "kernelspec": {
   "display_name": "Python 3 (ipykernel)",
   "language": "python",
   "name": "python3"
  },
  "language_info": {
   "codemirror_mode": {
    "name": "ipython",
    "version": 3
   },
   "file_extension": ".py",
   "mimetype": "text/x-python",
   "name": "python",
   "nbconvert_exporter": "python",
   "pygments_lexer": "ipython3",
   "version": "3.11.4"
  }
 },
 "nbformat": 4,
 "nbformat_minor": 5
}
