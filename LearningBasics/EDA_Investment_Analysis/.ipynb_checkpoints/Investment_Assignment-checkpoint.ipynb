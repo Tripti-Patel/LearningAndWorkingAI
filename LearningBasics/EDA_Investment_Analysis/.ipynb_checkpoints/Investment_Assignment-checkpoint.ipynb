{
 "cells": [
  {
   "cell_type": "markdown",
   "metadata": {},
   "source": [
    "# Investment Assignment "
   ]
  },
  {
   "cell_type": "code",
   "execution_count": 1,
   "metadata": {},
   "outputs": [],
   "source": [
    "#importing libraries \n",
    "import numpy as np\n",
    "import pandas as pd \n",
    "import matplotlib.pyplot as plt\n",
    "import plotly.express as px\n",
    "import plotly.graph_objects as go"
   ]
  },
  {
   "cell_type": "code",
   "execution_count": 2,
   "metadata": {},
   "outputs": [
    {
     "ename": "FileNotFoundError",
     "evalue": "[Errno 2] No such file or directory: 'C:/Users/Z0042K0R/Downloads/python/Module 3 - Investment Assignment'",
     "output_type": "error",
     "traceback": [
      "\u001b[0;31m---------------------------------------------------------------------------\u001b[0m",
      "\u001b[0;31mFileNotFoundError\u001b[0m                         Traceback (most recent call last)",
      "Cell \u001b[0;32mIn[2], line 5\u001b[0m\n\u001b[1;32m      3\u001b[0m companyFile \u001b[38;5;241m=\u001b[39m \u001b[38;5;124m\"\u001b[39m\u001b[38;5;124mC:/Users/Z0042K0R/Downloads/python/Module 3 - Investment Assignment/companies.csv\u001b[39m\u001b[38;5;124m\"\u001b[39m\n\u001b[1;32m      4\u001b[0m pwd \u001b[38;5;241m=\u001b[39m os\u001b[38;5;241m.\u001b[39mgetcwd()\n\u001b[0;32m----> 5\u001b[0m os\u001b[38;5;241m.\u001b[39mchdir(os\u001b[38;5;241m.\u001b[39mpath\u001b[38;5;241m.\u001b[39mdirname(companyFile))\n\u001b[1;32m      6\u001b[0m \u001b[38;5;66;03m# loading companies data to a dataframe\u001b[39;00m\n\u001b[1;32m      7\u001b[0m companies \u001b[38;5;241m=\u001b[39m pd\u001b[38;5;241m.\u001b[39mread_csv(os\u001b[38;5;241m.\u001b[39mpath\u001b[38;5;241m.\u001b[39mbasename(companyFile), engine \u001b[38;5;241m=\u001b[39m \u001b[38;5;124m'\u001b[39m\u001b[38;5;124mpython\u001b[39m\u001b[38;5;124m'\u001b[39m)\n",
      "\u001b[0;31mFileNotFoundError\u001b[0m: [Errno 2] No such file or directory: 'C:/Users/Z0042K0R/Downloads/python/Module 3 - Investment Assignment'"
     ]
    }
   ],
   "source": [
    "# To load file from file system we need to import os\n",
    "import os\n",
    "companyFile = \"C:/Users/Z0042K0R/Downloads/python/Module 3 - Investment Assignment/companies.csv\"\n",
    "pwd = os.getcwd()\n",
    "os.chdir(os.path.dirname(companyFile))\n",
    "# loading companies data to a dataframe\n",
    "companies = pd.read_csv(os.path.basename(companyFile), engine = 'python')\n",
    "os.chdir(pwd)\n",
    "companies.head()"
   ]
  },
  {
   "cell_type": "code",
   "execution_count": null,
   "metadata": {},
   "outputs": [],
   "source": [
    "rounds2File = \"C:/Users/Z0042K0R/Downloads/python/Module 3 - Investment Assignment/rounds2.csv\"\n",
    "pwd = os.getcwd()\n",
    "os.chdir(os.path.dirname(rounds2File))\n",
    "# loading rounds2 data to a dataframe\n",
    "rounds2 = pd.read_csv(os.path.basename(rounds2File), engine = 'python')\n",
    "rounds2.head()"
   ]
  },
  {
   "cell_type": "markdown",
   "metadata": {},
   "source": [
    "lets start analysing data by using info() and describe() utilities by pandas"
   ]
  },
  {
   "cell_type": "code",
   "execution_count": null,
   "metadata": {},
   "outputs": [],
   "source": [
    "companies.info()"
   ]
  },
  {
   "cell_type": "code",
   "execution_count": null,
   "metadata": {},
   "outputs": [],
   "source": [
    "rounds2.info()"
   ]
  },
  {
   "cell_type": "markdown",
   "metadata": {},
   "source": [
    "#### Checkpoint 1: Data Cleaning 1\n",
    "\n",
    "**Q. How many unique companies are present in companies?** <br>\n",
    "Permalink is non-null for all the rows in companies, hence using that to count companies"
   ]
  },
  {
   "cell_type": "code",
   "execution_count": null,
   "metadata": {},
   "outputs": [],
   "source": [
    "# Now, removing all the rows where permalink is null\n",
    "\n",
    "companies = companies[~companies.permalink.isnull()]\n",
    "companies.permalink = companies.permalink.str.lower()\n",
    "\n",
    "# lets find how many unique companies are present in dataframe\n",
    "\n",
    "len(companies.permalink.unique())"
   ]
  },
  {
   "cell_type": "markdown",
   "metadata": {},
   "source": [
    "**Q. How many unique companies are present in rounds2?** <br>\n",
    "Company_permalink is non-null for all the rows in rounds2, and  common data link between companies and round2 dataframes hence using that to count rounds2, also it can be later used to join tables"
   ]
  },
  {
   "cell_type": "code",
   "execution_count": null,
   "metadata": {},
   "outputs": [],
   "source": [
    "# For companies dataframe, removing all the rows where permalink is null\n",
    "\n",
    "rounds2 = rounds2[~rounds2.company_permalink.isnull()]\n",
    "rounds2.company_permalink = rounds2.company_permalink.str.lower()\n",
    "\n",
    "# lets find how many unique companies are present in rounds2\n",
    "\n",
    "len(rounds2.company_permalink.unique())"
   ]
  },
  {
   "cell_type": "markdown",
   "metadata": {},
   "source": [
    "**Q. Are there any companies in the rounds2 file which are not present in companies?** <br>\n",
    "\n",
    "The number of unique permalinks between companies and rounds2 dataframes is the same ie. 66368. But this doesnot gurantee that they contain same set of companies.<br> \n",
    "\n",
    "To confirm this, we'll have to perform an inner join on column with permalink in companies and rounds2 dataframes.<br>\n",
    "Than, if the total number of unique permalinks is still the same, ie. 66368,so coming to conclusion that both the data frames share same set of companies.\n",
    "\n",
    "Lets refer new dataframe as **master_frame**\n"
   ]
  },
  {
   "cell_type": "code",
   "execution_count": null,
   "metadata": {},
   "outputs": [],
   "source": [
    "# now change the column name, so that we can merge companies and rounds2 data through that common column\n",
    "\n",
    "rounds2 = rounds2.rename(columns = {\"company_permalink\":\"permalink\"})\n",
    "\n",
    "rounds2.permalink = rounds2.permalink.str.lower()\n",
    "companies.permalink = companies.permalink.str.lower()\n",
    "\n",
    "# lets perform an inner join to the datasets\n",
    "\n",
    "master_frame = pd.merge(companies,rounds2, how='inner', on='permalink')\n",
    "master_frame.head()"
   ]
  },
  {
   "cell_type": "markdown",
   "metadata": {},
   "source": [
    "**Q. Merge the two data frames so that all  variables (columns)  in the companies frame are added to the rounds2 data frame. Name the merged frame master_frame. How many observations are present in master_frame ?** <br>\n",
    "\n",
    "For this we use the len() function"
   ]
  },
  {
   "cell_type": "code",
   "execution_count": null,
   "metadata": {},
   "outputs": [],
   "source": [
    "len(master_frame)"
   ]
  },
  {
   "cell_type": "markdown",
   "metadata": {},
   "source": [
    "###  Checkpoint 2: Funding Type Analysis\n",
    "\n",
    "Lets start by analysing the **master_frame**"
   ]
  },
  {
   "cell_type": "code",
   "execution_count": null,
   "metadata": {},
   "outputs": [],
   "source": [
    "master_frame.info()"
   ]
  },
  {
   "cell_type": "markdown",
   "metadata": {},
   "source": [
    "#### Since Spark Funds wants to choose from one of these four investment types:\n",
    "\n",
    "* venture \n",
    "* angel \n",
    "* seed\n",
    "* private equity\n",
    "  "
   ]
  },
  {
   "cell_type": "code",
   "execution_count": null,
   "metadata": {},
   "outputs": [],
   "source": [
    "#we'll remove the rest of the rows, where funding_round_type doesnot match one of these four\n",
    "master_frame.funding_round_type.value_counts()"
   ]
  },
  {
   "cell_type": "code",
   "execution_count": null,
   "metadata": {},
   "outputs": [],
   "source": [
    "master_frame = master_frame[(master_frame.funding_round_type == 'venture') \n",
    "                            | (master_frame.funding_round_type == 'seed') \n",
    "                            | (master_frame.funding_round_type == 'angel')\n",
    "                            | (master_frame.funding_round_type == 'private_equity')]\n",
    "master_frame.funding_round_type.value_counts()"
   ]
  },
  {
   "cell_type": "markdown",
   "metadata": {},
   "source": [
    "**Now, next step is to find the statistical amount of investment which is put into these sectors** <br>\n"
   ]
  },
  {
   "cell_type": "code",
   "execution_count": null,
   "metadata": {},
   "outputs": [],
   "source": [
    "# Sparks Funds wants to invest between 5 to 15 million USD per investment round \n",
    "# Keeping only those enteries where investment amount is in the above range\n",
    "master_frame = master_frame[(master_frame.raised_amount_usd >= 5000000) & (master_frame.raised_amount_usd <= 15000000)]\n",
    "master_frame.funding_round_type.value_counts()"
   ]
  },
  {
   "cell_type": "code",
   "execution_count": null,
   "metadata": {},
   "outputs": [],
   "source": [
    "# Now finding most representative values in all four types of investments\n",
    "fig = px.box(master_frame, x=\"funding_round_type\", y=\"raised_amount_usd\")\n",
    "fig.show()"
   ]
  },
  {
   "cell_type": "markdown",
   "metadata": {},
   "source": [
    "**On observing there is a pretty symmetric distribution of values for all four investment types, only the 'seed' funding_type contains some outliers, hence we'll consider median is our statistical parameter for calculating representative values for various funding types**"
   ]
  },
  {
   "cell_type": "code",
   "execution_count": null,
   "metadata": {},
   "outputs": [],
   "source": [
    "funding_type_analysis_df = master_frame.groupby(['funding_round_type']).median().sort_values(by=['raised_amount_usd'],ascending=False)\n",
    "funding_type_analysis_df"
   ]
  },
  {
   "cell_type": "markdown",
   "metadata": {},
   "source": [
    "from the above table lets conclude that **private_equity** is the most suitable investment type"
   ]
  },
  {
   "cell_type": "code",
   "execution_count": null,
   "metadata": {},
   "outputs": [],
   "source": [
    "# defining a variable containing the choosen investment type, \n",
    "# as it'll give us the flexibility to observe other investment types by simply chaning the value of this variable in future\n",
    "\n",
    "choosen_investment_type = 'private_equity'"
   ]
  },
  {
   "cell_type": "markdown",
   "metadata": {},
   "source": [
    "Choosing only the enteries where investment type is **choosen_investment_type**"
   ]
  },
  {
   "cell_type": "code",
   "execution_count": null,
   "metadata": {},
   "outputs": [],
   "source": [
    "master_frame = master_frame[master_frame.funding_round_type == choosen_investment_type]"
   ]
  },
  {
   "cell_type": "markdown",
   "metadata": {},
   "source": [
    "### Now lets start working towards Checkpoint 3: Country Analysis \n"
   ]
  },
  {
   "cell_type": "code",
   "execution_count": null,
   "metadata": {},
   "outputs": [],
   "source": [
    "#Now we'll start by making a dataframe named \"top9\" with the top nine countries \n",
    "top9 = master_frame.groupby(['country_code']).sum().reset_index().sort_values(by=['raised_amount_usd'],ascending=False).head(9)\n",
    "top9"
   ]
  },
  {
   "cell_type": "markdown",
   "metadata": {},
   "source": [
    "Country code mapping :<br>\n",
    "* USA - United States of America (First)\n",
    "* GBR - United Kingdom (Second)\n",
    "* CAN - Canada (Third)\n",
    "* ISR - Israel\n",
    "* AUS - Australlia\n",
    "* BRA - Brazil\n",
    "* IND - India\n",
    "* NLD - Netherlands\n",
    "* SWE - Swedan\n",
    "\n",
    "USA, United Kingdom and Canada are the top 3 English speaking countries"
   ]
  },
  {
   "cell_type": "markdown",
   "metadata": {},
   "source": [
    "#### Checkpoint 4: Sector Analysis 1"
   ]
  },
  {
   "cell_type": "code",
   "execution_count": null,
   "metadata": {},
   "outputs": [],
   "source": [
    "# loading mapping data to a dataframe\n",
    "mappingFile = \"C:/Users/Z0042K0R/Downloads/python/Module 3 - Investment Assignment/mapping.csv\"\n",
    "pwd = os.getcwd()\n",
    "os.chdir(os.path.dirname(mappingFile))\n",
    "mapping = pd.read_csv(mappingFile, engine = 'python')\n",
    "mapping.head()"
   ]
  },
  {
   "cell_type": "markdown",
   "metadata": {},
   "source": [
    "Cleaning data by removing the null entities in mapping and master_frame dataframes"
   ]
  },
  {
   "cell_type": "code",
   "execution_count": null,
   "metadata": {},
   "outputs": [],
   "source": [
    "mapping = mapping[~mapping.category_list.isnull()]\n",
    "master_frame = master_frame[~master_frame.category_list.isnull()]"
   ]
  },
  {
   "cell_type": "markdown",
   "metadata": {},
   "source": [
    "**first string before the vertical bar will be considered the primary sector**\n",
    "<br>\n",
    "Hence we remove the rest of the string from each of the enteries in both the datasets"
   ]
  },
  {
   "cell_type": "code",
   "execution_count": null,
   "metadata": {},
   "outputs": [],
   "source": [
    "# Extract the primary sector of each category list from the category_list column\n",
    "def extract_primary_category(category_string):\n",
    "    if (category_string == None) or (str(category_string).lower() == 'nan'):\n",
    "        return category_string\n",
    "    categories = category_string.split('|')\n",
    "    return categories[0].strip()\n",
    "\n",
    "mapping.category_list = mapping.category_list.apply(extract_primary_category)\n",
    "master_frame.category_list = master_frame.category_list.apply(extract_primary_category)\n",
    "\n",
    "mapping.head()"
   ]
  },
  {
   "cell_type": "markdown",
   "metadata": {},
   "source": [
    "Creating a new column in mapping dataframe, names **sector** which contains information about the sector, to which the category belongs to"
   ]
  },
  {
   "cell_type": "code",
   "execution_count": null,
   "metadata": {},
   "outputs": [],
   "source": [
    "def find_sector(row):\n",
    "    if row['Automotive & Sports'] == 1:\n",
    "        return 'Automotive & Sports'\n",
    "    \n",
    "    elif row['Blanks'] == 1:\n",
    "        return 'Blanks'\n",
    "    \n",
    "    elif row['Cleantech / Semiconductors'] == 1:\n",
    "        return 'Cleantech / Semiconductors'\n",
    "    \n",
    "    elif row['Entertainment'] == 1:\n",
    "        return 'Entertainment'\n",
    "    \n",
    "    elif row['Health'] == 1:\n",
    "        return 'Health'\n",
    "    \n",
    "    elif row['Manufacturing'] == 1:\n",
    "        return 'Manufacturings'\n",
    "    \n",
    "    elif row['News, Search and Messaging'] == 1:\n",
    "        return 'News, Search and Messaging'\n",
    "    \n",
    "    elif row['Others'] == 1:\n",
    "        return 'Others'\n",
    "    \n",
    "    elif row['Social, Finance, Analytics, Advertising'] == 1:\n",
    "        return 'Social, Finance, Analytics, Advertising'\n",
    "    \n",
    "    else:\n",
    "        return None\n",
    "\n",
    "mapping['sector'] = mapping.apply(find_sector,axis=1)"
   ]
  },
  {
   "cell_type": "markdown",
   "metadata": {},
   "source": [
    "### Checkpoint 5: Sector Analysis 2\n",
    "We'll start by creating three separate data frames D1, D2 and D3 for each of the three countries containing the observations of funding type FT falling within the 5-15 million USD range. <br>\n",
    "\n",
    "Since we have already implemented the amount limit check in master frame dataframe, hence we'll just filter the data as per the countries<br>\n",
    "We'll join mapping and master_frame dataframes through **category_list** column"
   ]
  },
  {
   "cell_type": "code",
   "execution_count": null,
   "metadata": {},
   "outputs": [],
   "source": [
    "D1 = master_frame[(master_frame.country_code == 'USA')]\n",
    "D2 = master_frame[(master_frame.country_code == 'GBR')]\n",
    "D3 = master_frame[(master_frame.country_code == 'CAN')]\n",
    "\n",
    "# join\n",
    "\n",
    "D1 = pd.merge(D1,mapping, on='category_list', how='inner')\n",
    "D2 = pd.merge(D2,mapping, on='category_list', how='inner')\n",
    "D3 = pd.merge(D3,mapping, on='category_list', how='inner')"
   ]
  },
  {
   "cell_type": "code",
   "execution_count": null,
   "metadata": {},
   "outputs": [],
   "source": [
    "#total number of Investments\n",
    "print(f\"Total number of investments in D1 {len(D1)}\")\n",
    "print(f\"Total number of investments in D2 {len(D2)}\")\n",
    "print(f\"Total number of investments in D3 {len(D3)}\")"
   ]
  },
  {
   "cell_type": "markdown",
   "metadata": {},
   "source": [
    "Checking for highest investments(no. of investments wise) for the 3 countries D1, D2, D3"
   ]
  },
  {
   "cell_type": "code",
   "execution_count": null,
   "metadata": {},
   "outputs": [],
   "source": [
    "D1.sum()"
   ]
  },
  {
   "cell_type": "code",
   "execution_count": null,
   "metadata": {},
   "outputs": [],
   "source": [
    "D2.sum()"
   ]
  },
  {
   "cell_type": "code",
   "execution_count": null,
   "metadata": {},
   "outputs": [],
   "source": [
    "D3.sum()"
   ]
  },
  {
   "cell_type": "markdown",
   "metadata": {},
   "source": [
    "### conclusion <br>\n",
    "\n",
    "**For country D1, ie. USA,** the top 3 investment sectors are:<br>\n",
    "1. Cleantech / Semiconductors\n",
    "2. Others\n",
    "3. Health\n",
    "\n",
    "**For country D2, ie. GBR,** the top 5 investment sectors are:<br>\n",
    "1. Cleantech / Semiconductors\n",
    "2. Manufacturing\n",
    "3. News, Search and Messaging\n",
    "4. Others\n",
    "5. Social, Finance, Analytics, Advertising\n",
    "\n",
    "But to determine the order without observing these closely (We'll prioritize the ones where amount of investment is higher)\n",
    "\n",
    "**For country D3, ie. CAN,** the top 4 investment sectors are:<br>\n",
    "1. Cleantech / Semiconductors\n",
    "2. Manufacturing\n",
    "3. Entertainment\n",
    "4. Others\n",
    "\n",
    "Between these, **Cleantech / Semiconductors** and **Manufacturing** in order, But we can't determine the order between **Entertainment** and **Others** without observing these closely (We'll prioritize the ones where amount of investment is higher)\n",
    "\n",
    "**total investments made into these sectors for D2 and D3**"
   ]
  },
  {
   "cell_type": "code",
   "execution_count": null,
   "metadata": {},
   "outputs": [],
   "source": [
    "# Total investments made in D2\n",
    "D2.groupby(['sector'])['raised_amount_usd'].sum()"
   ]
  },
  {
   "cell_type": "markdown",
   "metadata": {},
   "source": [
    "Hence the order of investment for D2 must be \n",
    "1. Social, Finance, Analytics, Advertising\n",
    "2. Manufacturing\n",
    "3. Others"
   ]
  },
  {
   "cell_type": "code",
   "execution_count": null,
   "metadata": {},
   "outputs": [],
   "source": [
    "# Total investments made in D3 \n",
    "D3.groupby(['sector'])['raised_amount_usd'].sum()"
   ]
  },
  {
   "cell_type": "markdown",
   "metadata": {},
   "source": [
    "Hence the order of inventment for D3 must be\n",
    "1. Cleantech / Semiconductors\n",
    "2. Manufacturing\n",
    "3. Entertainment"
   ]
  },
  {
   "cell_type": "markdown",
   "metadata": {},
   "source": [
    "### companies with highest investments\n"
   ]
  },
  {
   "cell_type": "code",
   "execution_count": null,
   "metadata": {},
   "outputs": [],
   "source": [
    "d1_company1 = D1[(D1['Cleantech / Semiconductors'] == 1)].sort_values(ascending=False, by='raised_amount_usd').head(1)\n",
    "d1_company1.name"
   ]
  },
  {
   "cell_type": "code",
   "execution_count": null,
   "metadata": {},
   "outputs": [],
   "source": [
    "d1_company2 = D1[(D1['Others'] == 1)].sort_values(ascending=False, by='raised_amount_usd').head(1)\n",
    "d1_company2.name"
   ]
  },
  {
   "cell_type": "code",
   "execution_count": null,
   "metadata": {},
   "outputs": [],
   "source": [
    "d1_company3 = D1[(D1['Health'] == 1)].sort_values(ascending=False, by='raised_amount_usd').head(1)\n",
    "d1_company3.name"
   ]
  },
  {
   "cell_type": "code",
   "execution_count": null,
   "metadata": {},
   "outputs": [],
   "source": [
    "#most invested companies in top 3 sectors in D2\n",
    "d2_company1 = D2[(D2['Cleantech / Semiconductors'] == 1)].sort_values(ascending=False, by='raised_amount_usd').head(1)\n",
    "d2_company1.name"
   ]
  },
  {
   "cell_type": "code",
   "execution_count": null,
   "metadata": {},
   "outputs": [],
   "source": [
    "d2_company2 = D2[(D2['Manufacturing'] == 1)].sort_values(ascending=False, by='raised_amount_usd').head(1)\n",
    "d2_company2.name"
   ]
  },
  {
   "cell_type": "code",
   "execution_count": null,
   "metadata": {},
   "outputs": [],
   "source": [
    "d2_company3 = D2[(D2['Others'] == 1)].sort_values(ascending=False, by='raised_amount_usd').head(1)\n",
    "d2_company3.name"
   ]
  },
  {
   "cell_type": "code",
   "execution_count": null,
   "metadata": {},
   "outputs": [],
   "source": [
    "#most invested companies in top 3 sectors in D3\n",
    "d3_company1 = D3[(D3['Cleantech / Semiconductors'] == 1)].sort_values(ascending=False, by='raised_amount_usd').head(1)\n",
    "d3_company1.name"
   ]
  },
  {
   "cell_type": "code",
   "execution_count": null,
   "metadata": {},
   "outputs": [],
   "source": [
    "d3_company2 = D3[(D3['Manufacturing'] == 1)].sort_values(ascending=False, by='raised_amount_usd').head(1)\n",
    "d3_company2.name"
   ]
  },
  {
   "cell_type": "code",
   "execution_count": null,
   "metadata": {},
   "outputs": [],
   "source": [
    "d3_company3 = D3[(D3['Entertainment'] == 1)].sort_values(ascending=False, by='raised_amount_usd').head(1)\n",
    "d3_company3.name"
   ]
  },
  {
   "cell_type": "markdown",
   "metadata": {},
   "source": [
    "### Checkpoint 6: Plots\n",
    "\n",
    "**A plot showing the representative amount of investment in each funding type.** "
   ]
  },
  {
   "cell_type": "code",
   "execution_count": null,
   "metadata": {},
   "outputs": [],
   "source": [
    "fig = px.bar(funding_type_analysis_df.reset_index(), x=\"funding_round_type\", y=\"raised_amount_usd\")\n",
    "fig.show()\n",
    "#This chart makes it clear that **private_equity** is the funding type (FT), which is best suited for Spark Funds."
   ]
  },
  {
   "cell_type": "markdown",
   "metadata": {},
   "source": [
    "**A plot showing the top 9 countries against the total amount of investments of funding type FT**. <br>\n"
   ]
  },
  {
   "cell_type": "code",
   "execution_count": null,
   "metadata": {},
   "outputs": [],
   "source": [
    "fig = px.bar(top9.sort_values(by=['raised_amount_usd'],ascending=True), y=\"country_code\", x=\"raised_amount_usd\")\n",
    "fig.show()\n",
    "#By this we can conclude that the top 3 english speaking countries in our dataframe are USA, GBR and CAN"
   ]
  },
  {
   "cell_type": "markdown",
   "metadata": {},
   "source": [
    "**A plot showing the number of investments in the top 3 sectors of the top 3 countries on one chart (for the chosen investment type FT).**<br>\n"
   ]
  },
  {
   "cell_type": "code",
   "execution_count": null,
   "metadata": {},
   "outputs": [],
   "source": [
    "counteries=['USA', 'GBR', 'CAN']\n",
    "\n",
    "fig = go.Figure(data=[\n",
    "    go.Bar(name='Company 1', x=counteries, y=[d1_company1.raised_amount_usd.values[0], d1_company2.raised_amount_usd.values[0], d1_company3.raised_amount_usd.values[0]]),\n",
    "    go.Bar(name='Company 2', x=counteries,  y=[d2_company1.raised_amount_usd.values[0], d2_company2.raised_amount_usd.values[0], d2_company3.raised_amount_usd.values[0]]),\n",
    "    go.Bar(name='Company 3', x=counteries,  y=[d3_company1.raised_amount_usd.values[0], d3_company2.raised_amount_usd.values[0], d3_company3.raised_amount_usd.values[0]]),\n",
    "])\n",
    "# Change the bar mode\n",
    "fig.update_layout(barmode='group')\n",
    "fig.show()\n",
    "#This plot should clearly displays the top 3 sectors each in USA, GBR, CAN"
   ]
  },
  {
   "cell_type": "code",
   "execution_count": null,
   "metadata": {},
   "outputs": [],
   "source": []
  }
 ],
 "metadata": {
  "kernelspec": {
   "display_name": "Python 3 (ipykernel)",
   "language": "python",
   "name": "python3"
  },
  "language_info": {
   "codemirror_mode": {
    "name": "ipython",
    "version": 3
   },
   "file_extension": ".py",
   "mimetype": "text/x-python",
   "name": "python",
   "nbconvert_exporter": "python",
   "pygments_lexer": "ipython3",
   "version": "3.11.4"
  }
 },
 "nbformat": 4,
 "nbformat_minor": 2
}
